{
 "cells": [
  {
   "cell_type": "code",
   "execution_count": 2,
   "id": "f0b83e9c-f0b2-4a72-af43-1fb6ed101cd0",
   "metadata": {},
   "outputs": [],
   "source": [
    "import os\n",
    "import pickle\n",
    "import matplotlib.pyplot as plt                     \n",
    "import numpy as np                                    \n",
    "import pandas as pd\n",
    "from pathlib import Path\n",
    "from textwrap import wrap\n",
    "from sklearn.model_selection import train_test_split\n",
    "from sklearn import metrics\n",
    "\n",
    "# Random forest and boosting packages\n",
    "from sklearn.ensemble import RandomForestClassifier\n",
    "from sklearn.ensemble import GradientBoostingClassifier"
   ]
  },
  {
   "cell_type": "code",
   "execution_count": 3,
   "id": "27e92cc6-db28-4a6e-a83c-54b250290587",
   "metadata": {},
   "outputs": [
    {
     "name": "stdout",
     "output_type": "stream",
     "text": [
      "C:\\\n",
      "C:\\/data\n"
     ]
    }
   ],
   "source": [
    "home_dir = Path(\".\").resolve()\n",
    "main_dir = home_dir.parent.parent\n",
    "print(main_dir)\n",
    "data_dir = str(main_dir) + \"/data\"\n",
    "print(data_dir)"
   ]
  },
  {
   "cell_type": "code",
   "execution_count": 5,
   "id": "84ef84a4-ea1e-41f0-916c-92dc32edb5a1",
   "metadata": {},
   "outputs": [
    {
     "name": "stdout",
     "output_type": "stream",
     "text": [
      "  household_id        ind_id  rooms  tablet  males_under_12  males_over_12  \\\n",
      "0    21eb7fcc1  ID_279628684      3       0               0              1   \n",
      "1    0e5d7a658  ID_f29eb3ddd      4       1               0              1   \n",
      "2    2c7317ea8  ID_68de51c94      8       0               0              0   \n",
      "3    2b58d945f  ID_d671db89c      5       1               0              2   \n",
      "4    2b58d945f  ID_d56d6f5f5      5       1               0              2   \n",
      "\n",
      "   males_tot  females_under_12  females_over_12  females_tot  ...  \\\n",
      "0          1                 0                0            0  ...   \n",
      "1          1                 0                0            0  ...   \n",
      "2          0                 0                1            1  ...   \n",
      "3          2                 1                1            2  ...   \n",
      "4          2                 1                1            2  ...   \n",
      "\n",
      "   region_Chorotega  region_pacifico  region_brunca  region_antlantica  \\\n",
      "0                 0                0              0                  0   \n",
      "1                 0                0              0                  0   \n",
      "2                 0                0              0                  0   \n",
      "3                 0                0              0                  0   \n",
      "4                 0                0              0                  0   \n",
      "\n",
      "   region_huetar  urban_zone  rural_zone  age  Target  monthly_rent  \n",
      "0              0           1           0   43       4      190000.0  \n",
      "1              0           1           0   67       4      135000.0  \n",
      "2              0           1           0   92       4           NaN  \n",
      "3              0           1           0   17       4      180000.0  \n",
      "4              0           1           0   37       4      180000.0  \n",
      "\n",
      "[5 rows x 84 columns]\n"
     ]
    }
   ],
   "source": [
    "household_poverty = pd.read_csv('https://raw.githubusercontent.com/Skillsoft-Content/Advanced-Classification-with-Python/main/data/costa_rica_poverty.csv')\n",
    "print(household_poverty.head())"
   ]
  },
  {
   "cell_type": "code",
   "execution_count": 6,
   "id": "2ddcd101-ffd2-4c61-91bb-c84ef011dc66",
   "metadata": {},
   "outputs": [
    {
     "name": "stdout",
     "output_type": "stream",
     "text": [
      "0    non_vulnerable\n",
      "1    non_vulnerable\n",
      "2    non_vulnerable\n",
      "3    non_vulnerable\n",
      "4    non_vulnerable\n",
      "Name: Target, dtype: object\n"
     ]
    }
   ],
   "source": [
    "#### Slide 37: Converting the target variable  ####\n",
    "\n",
    "household_poverty['Target'] = np.where(household_poverty['Target'] <= 3, 'vulnerable','non_vulnerable')\n",
    "print(household_poverty['Target'].head())"
   ]
  },
  {
   "cell_type": "code",
   "execution_count": 7,
   "id": "7aae7c22-d0cb-4d5d-918b-40ae077d5741",
   "metadata": {},
   "outputs": [
    {
     "name": "stdout",
     "output_type": "stream",
     "text": [
      "object\n",
      "bool\n"
     ]
    }
   ],
   "source": [
    "#### Slide 38: Data prep: target  ####\n",
    "\n",
    "print(household_poverty.Target.dtypes)\n",
    "household_poverty[\"Target\"] = np.where(household_poverty[\"Target\"] == \"non_vulnerable\", True, False)\n",
    "# Check class again.\n",
    "print(household_poverty.Target.dtypes)"
   ]
  },
  {
   "cell_type": "code",
   "execution_count": null,
   "id": "b7591c33-1c53-4034-b6fb-1645db71f4fe",
   "metadata": {},
   "outputs": [],
   "source": [
    "#### Slide 39: Data prep: check NAs  ####\n",
    "\n",
    "household_poverty.isnull().sum()"
   ]
  },
  {
   "cell_type": "code",
   "execution_count": null,
   "id": "e654aa3c-b44f-46ab-85d7-fedd19dc788f",
   "metadata": {},
   "outputs": [],
   "source": []
  },
  {
   "cell_type": "code",
   "execution_count": 10,
   "id": "2d4cb9e4-ea24-4d34-9a1d-4ff653e16775",
   "metadata": {},
   "outputs": [
    {
     "name": "stdout",
     "output_type": "stream",
     "text": [
      "   rooms  tablet  males_under_12  males_over_12  males_tot  females_under_12  \\\n",
      "0      3       0               0              1          1                 0   \n",
      "1      4       1               0              1          1                 0   \n",
      "2      8       0               0              0          0                 0   \n",
      "3      5       1               0              2          2                 1   \n",
      "4      5       1               0              2          2                 1   \n",
      "\n",
      "   females_over_12  females_tot  ppl_under_12  ppl_over_12  ...  \\\n",
      "0                0            0             0            1  ...   \n",
      "1                0            0             0            1  ...   \n",
      "2                1            1             0            1  ...   \n",
      "3                1            2             1            3  ...   \n",
      "4                1            2             1            3  ...   \n",
      "\n",
      "   region_central  region_Chorotega  region_pacifico  region_brunca  \\\n",
      "0               1                 0                0              0   \n",
      "1               1                 0                0              0   \n",
      "2               1                 0                0              0   \n",
      "3               1                 0                0              0   \n",
      "4               1                 0                0              0   \n",
      "\n",
      "   region_antlantica  region_huetar  urban_zone  rural_zone  age  Target  \n",
      "0                  0              0           1           0   43    True  \n",
      "1                  0              0           1           0   67    True  \n",
      "2                  0              0           1           0   92    True  \n",
      "3                  0              0           1           0   17    True  \n",
      "4                  0              0           1           0   37    True  \n",
      "\n",
      "[5 rows x 81 columns]\n"
     ]
    }
   ],
   "source": [
    "#### Slide 40: Subsetting the dataset  ####\n",
    "\n",
    "costa_tree = household_poverty.drop(['household_id', 'ind_id', 'monthly_rent'], axis = 1)\n",
    "print(costa_tree.head())\n"
   ]
  },
  {
   "cell_type": "code",
   "execution_count": 25,
   "id": "de9dd23d-137a-4a65-89ee-5b2780b45afe",
   "metadata": {},
   "outputs": [],
   "source": [
    "#### Slide 42: Pickle the dataset  ####\n",
    "\n",
    "pickle.dump(costa_tree, open(\"costa_clean.sav\", \"wb\" ))"
   ]
  },
  {
   "cell_type": "code",
   "execution_count": 9,
   "id": "e8ee5921-abc3-42ba-8689-5c7bd603fd1a",
   "metadata": {},
   "outputs": [
    {
     "data": {
      "text/plain": [
       "<Axes: >"
      ]
     },
     "execution_count": 9,
     "metadata": {},
     "output_type": "execute_result"
    },
    {
     "data": {
      "image/png": "[encoded data removed]",
      "text/plain": [
       "<Figure size 640x480 with 2 Axes>"
      ]
     },
     "metadata": {},
     "output_type": "display_data"
    }
   ],
   "source": [
    "import seaborn as sns\n",
    "sns.heatmap(household_poverty.isnull().transpose())\n",
    "\n",
    "### showing 0 missing variables in heatmap - therefore all black (not blank)"
   ]
  },
  {
   "cell_type": "code",
   "execution_count": 11,
   "id": "63cea326-cfd8-41f5-82e4-7563874523c2",
   "metadata": {},
   "outputs": [
    {
     "data": {
      "text/plain": [
       "<Axes: >"
      ]
     },
     "execution_count": 11,
     "metadata": {},
     "output_type": "execute_result"
    },
    {
     "data": {
      "image/png": "[encoded data removed]",
      "text/plain": [
       "<Figure size 640x480 with 2 Axes>"
      ]
     },
     "metadata": {},
     "output_type": "display_data"
    }
   ],
   "source": []
  },
  {
   "cell_type": "code",
   "execution_count": 12,
   "id": "d39a0291-ee6d-4869-91f6-b291d9616ca2",
   "metadata": {},
   "outputs": [],
   "source": [
    "#### Slide 46: Split into training and test sets  ####\n",
    "\n",
    "# Select the predictors and target.\n",
    "X = costa_tree.drop(['Target'], axis = 1)\n",
    "y = np.array(costa_tree['Target'])\n",
    "\n",
    "# Set the seed to 1.\n",
    "np.random.seed(1)\n",
    "\n",
    "# Split into the training and test sets.\n",
    "X_train, X_test, y_train, y_test = train_test_split(X, y, test_size = 0.3)"
   ]
  },
  {
   "cell_type": "code",
   "execution_count": 15,
   "id": "083792c2-f60f-4239-9b2e-53f177bfe5ba",
   "metadata": {
    "tags": []
   },
   "outputs": [
    {
     "data": {
      "text/plain": [
       "(6689, 80)"
      ]
     },
     "execution_count": 15,
     "metadata": {},
     "output_type": "execute_result"
    }
   ],
   "source": [
    "X_train.shape"
   ]
  },
  {
   "cell_type": "code",
   "execution_count": 16,
   "id": "f2bc6787-4aee-434c-8121-7e96254208e9",
   "metadata": {},
   "outputs": [
    {
     "data": {
      "text/plain": [
       "(9557, 81)"
      ]
     },
     "execution_count": 16,
     "metadata": {},
     "output_type": "execute_result"
    }
   ],
   "source": [
    "costa_tree.shape"
   ]
  },
  {
   "cell_type": "code",
   "execution_count": 17,
   "id": "16727eca-bfdc-42e8-8653-ba2772cb3ad1",
   "metadata": {},
   "outputs": [
    {
     "data": {
      "text/plain": [
       "(2868, 80)"
      ]
     },
     "execution_count": 17,
     "metadata": {},
     "output_type": "execute_result"
    }
   ],
   "source": [
    "X_test.shape"
   ]
  },
  {
   "cell_type": "code",
   "execution_count": 18,
   "id": "6f973853-3993-4c5b-aebf-1a258d3f0236",
   "metadata": {},
   "outputs": [],
   "source": [
    "#### Slide 48: Building our model  ####\n",
    "\n",
    "forest = RandomForestClassifier(criterion = 'gini', \n",
    "                                n_estimators = 100, \n",
    "                                random_state = 1)"
   ]
  },
  {
   "cell_type": "code",
   "execution_count": 19,
   "id": "80c1e786-18fc-44e4-84c2-d901e954f52f",
   "metadata": {},
   "outputs": [
    {
     "data": {
      "text/html": [
       "<style>#sk-container-id-1 {color: black;background-color: white;}#sk-container-id-1 pre{padding: 0;}#sk-container-id-1 div.sk-toggleable {background-color: white;}#sk-container-id-1 label.sk-toggleable__label {cursor: pointer;display: block;width: 100%;margin-bottom: 0;padding: 0.3em;box-sizing: border-box;text-align: center;}#sk-container-id-1 label.sk-toggleable__label-arrow:before {content: \"▸\";float: left;margin-right: 0.25em;color: #696969;}#sk-container-id-1 label.sk-toggleable__label-arrow:hover:before {color: black;}#sk-container-id-1 div.sk-estimator:hover label.sk-toggleable__label-arrow:before {color: black;}#sk-container-id-1 div.sk-toggleable__content {max-height: 0;max-width: 0;overflow: hidden;text-align: left;background-color: #f0f8ff;}#sk-container-id-1 div.sk-toggleable__content pre {margin: 0.2em;color: black;border-radius: 0.25em;background-color: #f0f8ff;}#sk-container-id-1 input.sk-toggleable__control:checked~div.sk-toggleable__content {max-height: 200px;max-width: 100%;overflow: auto;}#sk-container-id-1 input.sk-toggleable__control:checked~label.sk-toggleable__label-arrow:before {content: \"▾\";}#sk-container-id-1 div.sk-estimator input.sk-toggleable__control:checked~label.sk-toggleable__label {background-color: #d4ebff;}#sk-container-id-1 div.sk-label input.sk-toggleable__control:checked~label.sk-toggleable__label {background-color: #d4ebff;}#sk-container-id-1 input.sk-hidden--visually {border: 0;clip: rect(1px 1px 1px 1px);clip: rect(1px, 1px, 1px, 1px);height: 1px;margin: -1px;overflow: hidden;padding: 0;position: absolute;width: 1px;}#sk-container-id-1 div.sk-estimator {font-family: monospace;background-color: #f0f8ff;border: 1px dotted black;border-radius: 0.25em;box-sizing: border-box;margin-bottom: 0.5em;}#sk-container-id-1 div.sk-estimator:hover {background-color: #d4ebff;}#sk-container-id-1 div.sk-parallel-item::after {content: \"\";width: 100%;border-bottom: 1px solid gray;flex-grow: 1;}#sk-container-id-1 div.sk-label:hover label.sk-toggleable__label {background-color: #d4ebff;}#sk-container-id-1 div.sk-serial::before {content: \"\";position: absolute;border-left: 1px solid gray;box-sizing: border-box;top: 0;bottom: 0;left: 50%;z-index: 0;}#sk-container-id-1 div.sk-serial {display: flex;flex-direction: column;align-items: center;background-color: white;padding-right: 0.2em;padding-left: 0.2em;position: relative;}#sk-container-id-1 div.sk-item {position: relative;z-index: 1;}#sk-container-id-1 div.sk-parallel {display: flex;align-items: stretch;justify-content: center;background-color: white;position: relative;}#sk-container-id-1 div.sk-item::before, #sk-container-id-1 div.sk-parallel-item::before {content: \"\";position: absolute;border-left: 1px solid gray;box-sizing: border-box;top: 0;bottom: 0;left: 50%;z-index: -1;}#sk-container-id-1 div.sk-parallel-item {display: flex;flex-direction: column;z-index: 1;position: relative;background-color: white;}#sk-container-id-1 div.sk-parallel-item:first-child::after {align-self: flex-end;width: 50%;}#sk-container-id-1 div.sk-parallel-item:last-child::after {align-self: flex-start;width: 50%;}#sk-container-id-1 div.sk-parallel-item:only-child::after {width: 0;}#sk-container-id-1 div.sk-dashed-wrapped {border: 1px dashed gray;margin: 0 0.4em 0.5em 0.4em;box-sizing: border-box;padding-bottom: 0.4em;background-color: white;}#sk-container-id-1 div.sk-label label {font-family: monospace;font-weight: bold;display: inline-block;line-height: 1.2em;}#sk-container-id-1 div.sk-label-container {text-align: center;}#sk-container-id-1 div.sk-container {/* jupyter's `normalize.less` sets `[hidden] { display: none; }` but bootstrap.min.css set `[hidden] { display: none !important; }` so we also need the `!important` here to be able to override the default hidden behavior on the sphinx rendered scikit-learn.org. See: https://github.com/scikit-learn/scikit-learn/issues/21755 */display: inline-block !important;position: relative;}#sk-container-id-1 div.sk-text-repr-fallback {display: none;}</style><div id=\"sk-container-id-1\" class=\"sk-top-container\"><div class=\"sk-text-repr-fallback\"><pre>RandomForestClassifier(random_state=1)</pre><b>In a Jupyter environment, please rerun this cell to show the HTML representation or trust the notebook. <br />On GitHub, the HTML representation is unable to render, please try loading this page with nbviewer.org.</b></div><div class=\"sk-container\" hidden><div class=\"sk-item\"><div class=\"sk-estimator sk-toggleable\"><input class=\"sk-toggleable__control sk-hidden--visually\" id=\"sk-estimator-id-1\" type=\"checkbox\" checked><label for=\"sk-estimator-id-1\" class=\"sk-toggleable__label sk-toggleable__label-arrow\">RandomForestClassifier</label><div class=\"sk-toggleable__content\"><pre>RandomForestClassifier(random_state=1)</pre></div></div></div></div></div>"
      ],
      "text/plain": [
       "RandomForestClassifier(random_state=1)"
      ]
     },
     "execution_count": 19,
     "metadata": {},
     "output_type": "execute_result"
    }
   ],
   "source": [
    "\n",
    "#=================================================-\n",
    "#### Slide 49: Fitting our model  ####\n",
    "\n",
    "# Fit the saved model to your training data.\n",
    "forest.fit(X_train, y_train)\n"
   ]
  },
  {
   "cell_type": "code",
   "execution_count": 20,
   "id": "4395b727-bac9-4898-9274-291ea21fb3be",
   "metadata": {},
   "outputs": [
    {
     "name": "stdout",
     "output_type": "stream",
     "text": [
      "[ True  True  True  True  True]\n"
     ]
    }
   ],
   "source": [
    "\n",
    "#=================================================-\n",
    "#### Slide 50: Predicting with our data  ####\n",
    "\n",
    "# Predict on test data.\n",
    "y_predict_forest = forest.predict(X_test)\n",
    "\n",
    "# Look at the first few predictions.\n",
    "print(y_predict_forest[0:5,])\n"
   ]
  },
  {
   "cell_type": "code",
   "execution_count": 21,
   "id": "a648b9c6-7c7c-4a3d-980f-1628fb431c14",
   "metadata": {},
   "outputs": [
    {
     "data": {
      "text/plain": [
       "0.943863319386332"
      ]
     },
     "execution_count": 21,
     "metadata": {},
     "output_type": "execute_result"
    }
   ],
   "source": [
    "### the mean of a binary is the true proportion \n",
    "\n",
    "(y_predict_forest == y_test).mean()"
   ]
  },
  {
   "cell_type": "code",
   "execution_count": 24,
   "id": "e45b3646-598c-47f4-bd1a-9622ba936cdb",
   "metadata": {},
   "outputs": [
    {
     "data": {
      "text/html": [
       "<div>\n",
       "<style scoped>\n",
       "    .dataframe tbody tr th:only-of-type {\n",
       "        vertical-align: middle;\n",
       "    }\n",
       "\n",
       "    .dataframe tbody tr th {\n",
       "        vertical-align: top;\n",
       "    }\n",
       "\n",
       "    .dataframe thead th {\n",
       "        text-align: right;\n",
       "    }\n",
       "</style>\n",
       "<table border=\"1\" class=\"dataframe\">\n",
       "  <thead>\n",
       "    <tr style=\"text-align: right;\">\n",
       "      <th></th>\n",
       "      <th>rooms</th>\n",
       "      <th>tablet</th>\n",
       "      <th>males_under_12</th>\n",
       "      <th>males_over_12</th>\n",
       "      <th>males_tot</th>\n",
       "      <th>females_under_12</th>\n",
       "      <th>females_over_12</th>\n",
       "      <th>females_tot</th>\n",
       "      <th>ppl_under_12</th>\n",
       "      <th>ppl_over_12</th>\n",
       "      <th>...</th>\n",
       "      <th>region_Chorotega</th>\n",
       "      <th>region_pacifico</th>\n",
       "      <th>region_brunca</th>\n",
       "      <th>region_antlantica</th>\n",
       "      <th>region_huetar</th>\n",
       "      <th>urban_zone</th>\n",
       "      <th>rural_zone</th>\n",
       "      <th>age</th>\n",
       "      <th>predictions</th>\n",
       "      <th>actuals</th>\n",
       "    </tr>\n",
       "  </thead>\n",
       "  <tbody>\n",
       "    <tr>\n",
       "      <th>4673</th>\n",
       "      <td>6</td>\n",
       "      <td>0</td>\n",
       "      <td>0</td>\n",
       "      <td>2</td>\n",
       "      <td>2</td>\n",
       "      <td>0</td>\n",
       "      <td>1</td>\n",
       "      <td>1</td>\n",
       "      <td>0</td>\n",
       "      <td>3</td>\n",
       "      <td>...</td>\n",
       "      <td>0</td>\n",
       "      <td>0</td>\n",
       "      <td>0</td>\n",
       "      <td>0</td>\n",
       "      <td>0</td>\n",
       "      <td>1</td>\n",
       "      <td>0</td>\n",
       "      <td>51</td>\n",
       "      <td>True</td>\n",
       "      <td>True</td>\n",
       "    </tr>\n",
       "    <tr>\n",
       "      <th>3920</th>\n",
       "      <td>5</td>\n",
       "      <td>0</td>\n",
       "      <td>2</td>\n",
       "      <td>1</td>\n",
       "      <td>3</td>\n",
       "      <td>1</td>\n",
       "      <td>3</td>\n",
       "      <td>4</td>\n",
       "      <td>3</td>\n",
       "      <td>4</td>\n",
       "      <td>...</td>\n",
       "      <td>0</td>\n",
       "      <td>0</td>\n",
       "      <td>0</td>\n",
       "      <td>0</td>\n",
       "      <td>0</td>\n",
       "      <td>1</td>\n",
       "      <td>0</td>\n",
       "      <td>6</td>\n",
       "      <td>True</td>\n",
       "      <td>True</td>\n",
       "    </tr>\n",
       "    <tr>\n",
       "      <th>7442</th>\n",
       "      <td>9</td>\n",
       "      <td>1</td>\n",
       "      <td>0</td>\n",
       "      <td>0</td>\n",
       "      <td>0</td>\n",
       "      <td>1</td>\n",
       "      <td>1</td>\n",
       "      <td>2</td>\n",
       "      <td>1</td>\n",
       "      <td>1</td>\n",
       "      <td>...</td>\n",
       "      <td>0</td>\n",
       "      <td>0</td>\n",
       "      <td>1</td>\n",
       "      <td>0</td>\n",
       "      <td>0</td>\n",
       "      <td>0</td>\n",
       "      <td>1</td>\n",
       "      <td>29</td>\n",
       "      <td>True</td>\n",
       "      <td>True</td>\n",
       "    </tr>\n",
       "    <tr>\n",
       "      <th>7746</th>\n",
       "      <td>3</td>\n",
       "      <td>0</td>\n",
       "      <td>1</td>\n",
       "      <td>1</td>\n",
       "      <td>2</td>\n",
       "      <td>1</td>\n",
       "      <td>1</td>\n",
       "      <td>2</td>\n",
       "      <td>2</td>\n",
       "      <td>2</td>\n",
       "      <td>...</td>\n",
       "      <td>0</td>\n",
       "      <td>0</td>\n",
       "      <td>1</td>\n",
       "      <td>0</td>\n",
       "      <td>0</td>\n",
       "      <td>0</td>\n",
       "      <td>1</td>\n",
       "      <td>8</td>\n",
       "      <td>True</td>\n",
       "      <td>True</td>\n",
       "    </tr>\n",
       "    <tr>\n",
       "      <th>218</th>\n",
       "      <td>5</td>\n",
       "      <td>1</td>\n",
       "      <td>0</td>\n",
       "      <td>2</td>\n",
       "      <td>2</td>\n",
       "      <td>0</td>\n",
       "      <td>1</td>\n",
       "      <td>1</td>\n",
       "      <td>0</td>\n",
       "      <td>3</td>\n",
       "      <td>...</td>\n",
       "      <td>0</td>\n",
       "      <td>0</td>\n",
       "      <td>0</td>\n",
       "      <td>0</td>\n",
       "      <td>0</td>\n",
       "      <td>1</td>\n",
       "      <td>0</td>\n",
       "      <td>61</td>\n",
       "      <td>True</td>\n",
       "      <td>True</td>\n",
       "    </tr>\n",
       "    <tr>\n",
       "      <th>...</th>\n",
       "      <td>...</td>\n",
       "      <td>...</td>\n",
       "      <td>...</td>\n",
       "      <td>...</td>\n",
       "      <td>...</td>\n",
       "      <td>...</td>\n",
       "      <td>...</td>\n",
       "      <td>...</td>\n",
       "      <td>...</td>\n",
       "      <td>...</td>\n",
       "      <td>...</td>\n",
       "      <td>...</td>\n",
       "      <td>...</td>\n",
       "      <td>...</td>\n",
       "      <td>...</td>\n",
       "      <td>...</td>\n",
       "      <td>...</td>\n",
       "      <td>...</td>\n",
       "      <td>...</td>\n",
       "      <td>...</td>\n",
       "      <td>...</td>\n",
       "    </tr>\n",
       "    <tr>\n",
       "      <th>8654</th>\n",
       "      <td>4</td>\n",
       "      <td>0</td>\n",
       "      <td>0</td>\n",
       "      <td>2</td>\n",
       "      <td>2</td>\n",
       "      <td>0</td>\n",
       "      <td>0</td>\n",
       "      <td>0</td>\n",
       "      <td>0</td>\n",
       "      <td>2</td>\n",
       "      <td>...</td>\n",
       "      <td>0</td>\n",
       "      <td>0</td>\n",
       "      <td>0</td>\n",
       "      <td>1</td>\n",
       "      <td>0</td>\n",
       "      <td>0</td>\n",
       "      <td>1</td>\n",
       "      <td>54</td>\n",
       "      <td>True</td>\n",
       "      <td>True</td>\n",
       "    </tr>\n",
       "    <tr>\n",
       "      <th>4482</th>\n",
       "      <td>7</td>\n",
       "      <td>0</td>\n",
       "      <td>0</td>\n",
       "      <td>3</td>\n",
       "      <td>3</td>\n",
       "      <td>0</td>\n",
       "      <td>3</td>\n",
       "      <td>3</td>\n",
       "      <td>0</td>\n",
       "      <td>6</td>\n",
       "      <td>...</td>\n",
       "      <td>0</td>\n",
       "      <td>0</td>\n",
       "      <td>0</td>\n",
       "      <td>0</td>\n",
       "      <td>0</td>\n",
       "      <td>1</td>\n",
       "      <td>0</td>\n",
       "      <td>55</td>\n",
       "      <td>True</td>\n",
       "      <td>True</td>\n",
       "    </tr>\n",
       "    <tr>\n",
       "      <th>6118</th>\n",
       "      <td>4</td>\n",
       "      <td>1</td>\n",
       "      <td>0</td>\n",
       "      <td>2</td>\n",
       "      <td>2</td>\n",
       "      <td>1</td>\n",
       "      <td>1</td>\n",
       "      <td>2</td>\n",
       "      <td>1</td>\n",
       "      <td>3</td>\n",
       "      <td>...</td>\n",
       "      <td>1</td>\n",
       "      <td>0</td>\n",
       "      <td>0</td>\n",
       "      <td>0</td>\n",
       "      <td>0</td>\n",
       "      <td>1</td>\n",
       "      <td>0</td>\n",
       "      <td>35</td>\n",
       "      <td>True</td>\n",
       "      <td>True</td>\n",
       "    </tr>\n",
       "    <tr>\n",
       "      <th>8566</th>\n",
       "      <td>2</td>\n",
       "      <td>0</td>\n",
       "      <td>1</td>\n",
       "      <td>1</td>\n",
       "      <td>2</td>\n",
       "      <td>1</td>\n",
       "      <td>1</td>\n",
       "      <td>2</td>\n",
       "      <td>2</td>\n",
       "      <td>2</td>\n",
       "      <td>...</td>\n",
       "      <td>0</td>\n",
       "      <td>0</td>\n",
       "      <td>0</td>\n",
       "      <td>1</td>\n",
       "      <td>0</td>\n",
       "      <td>0</td>\n",
       "      <td>1</td>\n",
       "      <td>3</td>\n",
       "      <td>True</td>\n",
       "      <td>True</td>\n",
       "    </tr>\n",
       "    <tr>\n",
       "      <th>2198</th>\n",
       "      <td>4</td>\n",
       "      <td>0</td>\n",
       "      <td>2</td>\n",
       "      <td>1</td>\n",
       "      <td>3</td>\n",
       "      <td>0</td>\n",
       "      <td>2</td>\n",
       "      <td>2</td>\n",
       "      <td>2</td>\n",
       "      <td>3</td>\n",
       "      <td>...</td>\n",
       "      <td>0</td>\n",
       "      <td>0</td>\n",
       "      <td>0</td>\n",
       "      <td>0</td>\n",
       "      <td>0</td>\n",
       "      <td>1</td>\n",
       "      <td>0</td>\n",
       "      <td>28</td>\n",
       "      <td>False</td>\n",
       "      <td>False</td>\n",
       "    </tr>\n",
       "  </tbody>\n",
       "</table>\n",
       "<p>2868 rows × 82 columns</p>\n",
       "</div>"
      ],
      "text/plain": [
       "      rooms  tablet  males_under_12  males_over_12  males_tot  \\\n",
       "4673      6       0               0              2          2   \n",
       "3920      5       0               2              1          3   \n",
       "7442      9       1               0              0          0   \n",
       "7746      3       0               1              1          2   \n",
       "218       5       1               0              2          2   \n",
       "...     ...     ...             ...            ...        ...   \n",
       "8654      4       0               0              2          2   \n",
       "4482      7       0               0              3          3   \n",
       "6118      4       1               0              2          2   \n",
       "8566      2       0               1              1          2   \n",
       "2198      4       0               2              1          3   \n",
       "\n",
       "      females_under_12  females_over_12  females_tot  ppl_under_12  \\\n",
       "4673                 0                1            1             0   \n",
       "3920                 1                3            4             3   \n",
       "7442                 1                1            2             1   \n",
       "7746                 1                1            2             2   \n",
       "218                  0                1            1             0   \n",
       "...                ...              ...          ...           ...   \n",
       "8654                 0                0            0             0   \n",
       "4482                 0                3            3             0   \n",
       "6118                 1                1            2             1   \n",
       "8566                 1                1            2             2   \n",
       "2198                 0                2            2             2   \n",
       "\n",
       "      ppl_over_12  ...  region_Chorotega  region_pacifico  region_brunca  \\\n",
       "4673            3  ...                 0                0              0   \n",
       "3920            4  ...                 0                0              0   \n",
       "7442            1  ...                 0                0              1   \n",
       "7746            2  ...                 0                0              1   \n",
       "218             3  ...                 0                0              0   \n",
       "...           ...  ...               ...              ...            ...   \n",
       "8654            2  ...                 0                0              0   \n",
       "4482            6  ...                 0                0              0   \n",
       "6118            3  ...                 1                0              0   \n",
       "8566            2  ...                 0                0              0   \n",
       "2198            3  ...                 0                0              0   \n",
       "\n",
       "      region_antlantica  region_huetar  urban_zone  rural_zone  age  \\\n",
       "4673                  0              0           1           0   51   \n",
       "3920                  0              0           1           0    6   \n",
       "7442                  0              0           0           1   29   \n",
       "7746                  0              0           0           1    8   \n",
       "218                   0              0           1           0   61   \n",
       "...                 ...            ...         ...         ...  ...   \n",
       "8654                  1              0           0           1   54   \n",
       "4482                  0              0           1           0   55   \n",
       "6118                  0              0           1           0   35   \n",
       "8566                  1              0           0           1    3   \n",
       "2198                  0              0           1           0   28   \n",
       "\n",
       "      predictions  actuals  \n",
       "4673         True     True  \n",
       "3920         True     True  \n",
       "7442         True     True  \n",
       "7746         True     True  \n",
       "218          True     True  \n",
       "...           ...      ...  \n",
       "8654         True     True  \n",
       "4482         True     True  \n",
       "6118         True     True  \n",
       "8566         True     True  \n",
       "2198        False    False  \n",
       "\n",
       "[2868 rows x 82 columns]"
      ]
     },
     "execution_count": 24,
     "metadata": {},
     "output_type": "execute_result"
    }
   ],
   "source": [
    "X_test['predictions'] = y_predict_forest\n",
    "X_test['actuals'] = y_test\n",
    "X_test\n",
    "    \n"
   ]
  },
  {
   "cell_type": "code",
   "execution_count": null,
   "id": "1e68eee4-f2a5-4048-ba2f-41db173a9587",
   "metadata": {},
   "outputs": [],
   "source": []
  }
 ],
 "metadata": {
  "kernelspec": {
   "display_name": "Python 3 (ipykernel)",
   "language": "python",
   "name": "python3"
  },
  "language_info": {
   "codemirror_mode": {
    "name": "ipython",
    "version": 3
   },
   "file_extension": ".py",
   "mimetype": "text/x-python",
   "name": "python",
   "nbconvert_exporter": "python",
   "pygments_lexer": "ipython3",
   "version": "3.10.9"
  }
 },
 "nbformat": 4,
 "nbformat_minor": 5
}
