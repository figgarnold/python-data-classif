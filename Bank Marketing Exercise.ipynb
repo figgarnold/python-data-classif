{
 "cells": [
  {
   "cell_type": "code",
   "execution_count": 1,
   "id": "1a621bb6-6f61-4733-bf9d-b9130163abea",
   "metadata": {},
   "outputs": [],
   "source": [
    "import os\n",
    "import pickle\n",
    "import matplotlib.pyplot as plt                     \n",
    "import numpy as np                                    \n",
    "import pandas as pd\n",
    "from pathlib import Path\n",
    "from textwrap import wrap\n",
    "from sklearn.model_selection import train_test_split\n",
    "from sklearn import metrics\n",
    "\n",
    "# Random forest and boosting packages\n",
    "from sklearn.ensemble import RandomForestClassifier\n",
    "from sklearn.ensemble import GradientBoostingClassifier"
   ]
  },
  {
   "cell_type": "code",
   "execution_count": 26,
   "id": "91c87e68-ea5b-4f90-a0b1-514b8f421710",
   "metadata": {},
   "outputs": [
    {
     "name": "stdout",
     "output_type": "stream",
     "text": [
      "C:\\\n",
      "C:\\bankdata\n"
     ]
    }
   ],
   "source": [
    "home_dir = Path(\".\").resolve()\n",
    "main_dir = home_dir.parent.parent\n",
    "print(main_dir)\n",
    "data_dir = str(main_dir) + \"bankdata\"\n",
    "print(data_dir)"
   ]
  },
  {
   "cell_type": "code",
   "execution_count": 3,
   "id": "b69f7909-03e1-4dd2-bb31-8c1b0bc3ee29",
   "metadata": {},
   "outputs": [
    {
     "name": "stdout",
     "output_type": "stream",
     "text": [
      "   age        job  marital    education  default housing loan    contact  \\\n",
      "0   56  housemaid  married     basic.4y       no      no   no  telephone   \n",
      "1   57   services  married  high.school  unknown      no   no  telephone   \n",
      "2   37   services  married  high.school       no     yes   no  telephone   \n",
      "3   40     admin.  married     basic.6y       no      no   no  telephone   \n",
      "4   56   services  married  high.school       no      no  yes  telephone   \n",
      "\n",
      "  month day_of_week  ...  campaign  pdays  previous     poutcome emp_var_rate  \\\n",
      "0   may         mon  ...         1    NaN         0  nonexistent          1.1   \n",
      "1   may         mon  ...         1  999.0         0  nonexistent          1.1   \n",
      "2   may         mon  ...         1  999.0         0  nonexistent          1.1   \n",
      "3   may         mon  ...         1  999.0         0  nonexistent          1.1   \n",
      "4   may         mon  ...         1  999.0         0  nonexistent          1.1   \n",
      "\n",
      "   cons_price_idx  cons_conf_idx  euribor3m  nr_employed   y  \n",
      "0          93.994          -36.4      4.857         5191  no  \n",
      "1          93.994          -36.4      4.857         5191  no  \n",
      "2          93.994          -36.4      4.857         5191  no  \n",
      "3          93.994          -36.4      4.857         5191  no  \n",
      "4          93.994          -36.4      4.857         5191  no  \n",
      "\n",
      "[5 rows x 21 columns]\n"
     ]
    }
   ],
   "source": [
    "bank = pd.read_csv('https://raw.githubusercontent.com/Skillsoft-Content/Advanced-Classification-with-Python/main/data/bank_marketing.csv')\n",
    "print(bank.head())"
   ]
  },
  {
   "cell_type": "code",
   "execution_count": 8,
   "id": "a85a198f-e608-42dc-9ee5-6b4ed6419fb4",
   "metadata": {},
   "outputs": [
    {
     "name": "stdout",
     "output_type": "stream",
     "text": [
      "0    0\n",
      "1    0\n",
      "2    0\n",
      "3    0\n",
      "4    0\n",
      "Name: y, dtype: int32\n"
     ]
    }
   ],
   "source": [
    "bank['y'] = np.where(bank['y'] == 'yes', 1,0)\n",
    "\n",
    "print(bank['y'].head())"
   ]
  },
  {
   "cell_type": "code",
   "execution_count": 13,
   "id": "78b47ade-2ef4-42b6-ac46-d228002ec5a5",
   "metadata": {},
   "outputs": [
    {
     "data": {
      "text/plain": [
       "pdays             0.00243% Missing\n",
       "age               0.00000% Missing\n",
       "campaign          0.00000% Missing\n",
       "nr_employed       0.00000% Missing\n",
       "euribor3m         0.00000% Missing\n",
       "cons_conf_idx     0.00000% Missing\n",
       "cons_price_idx    0.00000% Missing\n",
       "emp_var_rate      0.00000% Missing\n",
       "poutcome          0.00000% Missing\n",
       "previous          0.00000% Missing\n",
       "duration          0.00000% Missing\n",
       "job               0.00000% Missing\n",
       "day_of_week       0.00000% Missing\n",
       "month             0.00000% Missing\n",
       "contact           0.00000% Missing\n",
       "loan              0.00000% Missing\n",
       "housing           0.00000% Missing\n",
       "default           0.00000% Missing\n",
       "education         0.00000% Missing\n",
       "marital           0.00000% Missing\n",
       "y                 0.00000% Missing\n",
       "dtype: object"
      ]
     },
     "execution_count": 13,
     "metadata": {},
     "output_type": "execute_result"
    }
   ],
   "source": [
    "bank.isnull().mean().apply(\n",
    "    lambda x: '{:.5f}% Missing'.format(x*100)).sort_values(ascending=False)"
   ]
  },
  {
   "cell_type": "code",
   "execution_count": 16,
   "id": "c969c1f8-2809-47bc-bc12-6219e15710ba",
   "metadata": {},
   "outputs": [
    {
     "name": "stdout",
     "output_type": "stream",
     "text": [
      "   age  campaign  emp_var_rate  cons_price_idx  cons_conf_idx  euribor3m  \\\n",
      "0   56         1           1.1          93.994          -36.4      4.857   \n",
      "1   57         1           1.1          93.994          -36.4      4.857   \n",
      "2   37         1           1.1          93.994          -36.4      4.857   \n",
      "3   40         1           1.1          93.994          -36.4      4.857   \n",
      "4   56         1           1.1          93.994          -36.4      4.857   \n",
      "\n",
      "   nr_employed  y  \n",
      "0         5191  0  \n",
      "1         5191  0  \n",
      "2         5191  0  \n",
      "3         5191  0  \n",
      "4         5191  0  \n"
     ]
    }
   ],
   "source": [
    "bank = bank.drop(['pdays', 'month', 'poutcome', 'previous', 'duration', 'job', 'day_of_week', 'contact', 'loan', 'housing', 'default', 'education', 'marital'], axis = 1)\n",
    "print(bank.head())"
   ]
  },
  {
   "cell_type": "code",
   "execution_count": 37,
   "id": "e70c62ff-c597-4eaf-a68c-058d21b1acad",
   "metadata": {
    "tags": []
   },
   "outputs": [],
   "source": [
    "pickle.dump( bank, open( \"bank_clean.csv\", \"wb\" ) )"
   ]
  },
  {
   "cell_type": "code",
   "execution_count": 35,
   "id": "31c7e6a9-8b4c-4dfc-bcb7-7b8c87fa815d",
   "metadata": {},
   "outputs": [],
   "source": [
    "bank = bank.sample(n=2000, random_state=1)"
   ]
  },
  {
   "cell_type": "code",
   "execution_count": null,
   "id": "6c1dbcae-77f4-42f0-9c3d-6055419d7a96",
   "metadata": {},
   "outputs": [],
   "source": []
  }
 ],
 "metadata": {
  "kernelspec": {
   "display_name": "Python 3 (ipykernel)",
   "language": "python",
   "name": "python3"
  },
  "language_info": {
   "codemirror_mode": {
    "name": "ipython",
    "version": 3
   },
   "file_extension": ".py",
   "mimetype": "text/x-python",
   "name": "python",
   "nbconvert_exporter": "python",
   "pygments_lexer": "ipython3",
   "version": "3.10.9"
  }
 },
 "nbformat": 4,
 "nbformat_minor": 5
}
